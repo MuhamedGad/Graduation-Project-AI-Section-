{
 "cells": [
  {
   "cell_type": "code",
   "execution_count": 4,
   "id": "8a5e6625",
   "metadata": {},
   "outputs": [],
   "source": [
    "import tensorflow as tf\n",
    "from tensorflow.keras import models, layers\n",
    "import matplotlib.pyplot as plt\n",
    "from IPython.display import HTML\n",
    "import numpy as np\n",
    "import cv2 \n",
    "import os\n",
    "import PIL\n",
    "from tensorflow  import keras\n",
    "from tensorflow.keras.models import Sequential\n",
    "import pathlib\n"
   ]
  },
  {
   "cell_type": "code",
   "execution_count": 7,
   "id": "09b86e50",
   "metadata": {},
   "outputs": [],
   "source": [
    "# import cv2\n",
    "# import os\n",
    "\n",
    "# # Path to the folder containing the images\n",
    "# path = r'C:\\Users\\Mohamed Gad\\OneDrive\\Desktop\\3Plants\\Data\\Strawberry'\n",
    "\n",
    "# # Loop through all the files in the folder\n",
    "# for filename in os.listdir(path):\n",
    "#     # Read the image\n",
    "#     img = cv2.imread(os.path.join(path, filename))\n",
    "\n",
    "#     # Convert the image to grayscale\n",
    "#     gray = cv2.cvtColor(img, cv2.COLOR_BGR2GRAY)\n",
    "\n",
    "#     # Save the grayscale image\n",
    "#     cv2.imwrite(os.path.join(path,filename), gray)"
   ]
  },
  {
   "cell_type": "code",
   "execution_count": 9,
   "id": "1a17e24d",
   "metadata": {},
   "outputs": [
    {
     "data": {
      "text/plain": [
       "WindowsPath('C:/Users/Mohamed Gad/OneDrive/Desktop/3Plants/Data')"
      ]
     },
     "execution_count": 9,
     "metadata": {},
     "output_type": "execute_result"
    }
   ],
   "source": [
    "data_dir = r'C:\\Users\\Mohamed Gad\\OneDrive\\Desktop\\3Plants\\Data'\n",
    "data_dir = pathlib.Path (data_dir)\n",
    "data_dir"
   ]
  },
  {
   "cell_type": "code",
   "execution_count": 10,
   "id": "9b66e2ea",
   "metadata": {},
   "outputs": [
    {
     "data": {
      "text/plain": [
       "7822"
      ]
     },
     "execution_count": 10,
     "metadata": {},
     "output_type": "execute_result"
    }
   ],
   "source": [
    "image_count = len (list(data_dir.glob('*/*.jpg')))\n",
    "image_count"
   ]
  },
  {
   "cell_type": "code",
   "execution_count": 11,
   "id": "08d95988",
   "metadata": {},
   "outputs": [],
   "source": [
    "plant_images_dict = {\n",
    "    'Maize' : list (data_dir.glob('Maize/*')),\n",
    "    'Strawberry' : list (data_dir.glob('Strawberry/*')),\n",
    "    'Wheat' : list (data_dir.glob('Wheat/*')),\n",
    "}"
   ]
  },
  {
   "cell_type": "code",
   "execution_count": 12,
   "id": "d1960de9",
   "metadata": {},
   "outputs": [],
   "source": [
    "plant_labels_dict = {\n",
    "  'Maize' : 0,\n",
    "  'Strawberry' : 1,\n",
    "  'Wheat' : 2,\n",
    "}"
   ]
  },
  {
   "cell_type": "code",
   "execution_count": 13,
   "id": "08ed7800",
   "metadata": {},
   "outputs": [],
   "source": [
    "X, y = [], []\n",
    "for plant_name, images in plant_images_dict.items() :\n",
    "    for image in images :\n",
    "        img = cv2.imread(str(image))\n",
    "        resized_img = cv2.resize(img, (256,256))\n",
    "        X.append(resized_img)\n",
    "        y.append(plant_labels_dict[plant_name])\n",
    "        "
   ]
  },
  {
   "cell_type": "code",
   "execution_count": 14,
   "id": "693443f4",
   "metadata": {},
   "outputs": [],
   "source": [
    "X = np.array(X)\n",
    "y = np.array(y)"
   ]
  },
  {
   "cell_type": "code",
   "execution_count": 15,
   "id": "bd3372b5",
   "metadata": {},
   "outputs": [],
   "source": [
    "from sklearn.model_selection import train_test_split\n",
    "X_train, X_test,  y_train, y_test = train_test_split(X, y, random_state=32)"
   ]
  },
  {
   "cell_type": "code",
   "execution_count": 16,
   "id": "afa5ea34",
   "metadata": {},
   "outputs": [
    {
     "data": {
      "text/plain": [
       "(5866, 256, 256, 3)"
      ]
     },
     "execution_count": 16,
     "metadata": {},
     "output_type": "execute_result"
    }
   ],
   "source": [
    "X_train_scaled = X_train/ 255.0\n",
    "X_test_scaled = X_test/ 255.0\n",
    "X_train_scaled.shape"
   ]
  },
  {
   "cell_type": "code",
   "execution_count": 11,
   "id": "0fd106e6",
   "metadata": {},
   "outputs": [],
   "source": [
    "# data_augmentation = tf.keras.Sequential([\n",
    "#   layers.experimental.preprocessing.RandomFlip(\"horizontal_and_vertical\"),\n",
    "#   layers.experimental.preprocessing.RandomRotation(0.3),\n",
    "#   layers.experimental.preprocessing.RandomContrast(0.3),\n",
    "    \n",
    "# ])"
   ]
  },
  {
   "cell_type": "code",
   "execution_count": 17,
   "id": "bd27df3c",
   "metadata": {},
   "outputs": [],
   "source": [
    "n_classes = 3\n",
    "modelv2 = Sequential([\n",
    "    layers.Conv2D(filters=32, kernel_size = (3,3), activation='relu'),\n",
    "    layers.MaxPooling2D((2, 2)),\n",
    "    layers.Conv2D(64,  kernel_size = (3,3), activation='relu'),\n",
    "    layers.MaxPooling2D((2, 2)),\n",
    "    layers.Conv2D(64,  kernel_size = (3,3), activation='relu'),\n",
    "    layers.MaxPooling2D((2, 2)),\n",
    "    layers.Conv2D(64, (3, 3), activation='relu'),\n",
    "    layers.MaxPooling2D((2, 2)),\n",
    "    layers.Conv2D(64, (3, 3), activation='relu'),\n",
    "    layers.MaxPooling2D((2, 2)),\n",
    "    layers.Conv2D(64, (3, 3), activation='relu'),\n",
    "    layers.MaxPooling2D((2, 2)),\n",
    "\n",
    "    \n",
    "    layers.Flatten(),\n",
    "    layers.Dense(64, activation='relu'),\n",
    "    layers.Dense(64, activation='relu'),\n",
    "    layers.Dense(128, activation='relu'),\n",
    "    layers.Dropout(0.2),\n",
    "    layers.Dense(128, activation='relu'),\n",
    "    layers.Dense(n_classes, activation='softmax'),\n",
    "    \n",
    "])\n",
    "# from keras.callbacks import EarlyStopping\n",
    "# early = EarlyStopping(monitor = 'val_accuracy',min_delta=0,patience=20,verbose=1,mode='auto')\n",
    "modelv2.compile(optimizer='adam', loss='sparse_categorical_crossentropy', metrics=['accuracy'])"
   ]
  },
  {
   "cell_type": "code",
   "execution_count": 25,
   "id": "aa1c07e0",
   "metadata": {},
   "outputs": [
    {
     "name": "stdout",
     "output_type": "stream",
     "text": [
      "Epoch 1/5\n",
      "165/165 [==============================] - 168s 1s/step - loss: 0.1287 - accuracy: 0.9496 - val_loss: 0.2492 - val_accuracy: 0.9114\n",
      "Epoch 2/5\n",
      "165/165 [==============================] - 150s 909ms/step - loss: 0.0972 - accuracy: 0.9606 - val_loss: 0.1878 - val_accuracy: 0.9319\n",
      "Epoch 3/5\n",
      "165/165 [==============================] - 148s 899ms/step - loss: 0.0840 - accuracy: 0.9680 - val_loss: 0.2046 - val_accuracy: 0.9284\n",
      "Epoch 4/5\n",
      "165/165 [==============================] - 145s 880ms/step - loss: 0.1048 - accuracy: 0.9617 - val_loss: 0.2041 - val_accuracy: 0.9267\n",
      "Epoch 5/5\n",
      "165/165 [==============================] - 147s 893ms/step - loss: 0.0698 - accuracy: 0.9748 - val_loss: 0.2305 - val_accuracy: 0.9370\n"
     ]
    }
   ],
   "source": [
    "history= modelv2.fit(X_train_scaled, y_train,validation_split=0.1 , epochs=5)"
   ]
  },
  {
   "cell_type": "code",
   "execution_count": null,
   "id": "92d7cab7",
   "metadata": {},
   "outputs": [],
   "source": []
  },
  {
   "cell_type": "code",
   "execution_count": 26,
   "id": "7f5eca19",
   "metadata": {},
   "outputs": [
    {
     "name": "stdout",
     "output_type": "stream",
     "text": [
      "62/62 [==============================] - 13s 181ms/step - loss: 0.3026 - accuracy: 0.9131\n"
     ]
    },
    {
     "data": {
      "text/plain": [
       "[0.302585631608963, 0.9130879640579224]"
      ]
     },
     "execution_count": 26,
     "metadata": {},
     "output_type": "execute_result"
    }
   ],
   "source": [
    "modelv2.evaluate(X_test_scaled, y_test)"
   ]
  },
  {
   "cell_type": "code",
   "execution_count": 27,
   "id": "0901f96f",
   "metadata": {},
   "outputs": [],
   "source": [
    "modelv2.save(\"3PlantFinal.h5\")"
   ]
  },
  {
   "cell_type": "code",
   "execution_count": 28,
   "id": "52363a9e",
   "metadata": {},
   "outputs": [
    {
     "name": "stdout",
     "output_type": "stream",
     "text": [
      "62/62 [==============================] - 14s 193ms/step\n",
      "Classification Report : \n",
      "               precision    recall  f1-score   support\n",
      "\n",
      "           0       0.96      0.98      0.97       755\n",
      "           1       0.83      0.89      0.86       472\n",
      "           2       0.92      0.86      0.89       729\n",
      "\n",
      "    accuracy                           0.91      1956\n",
      "   macro avg       0.90      0.91      0.91      1956\n",
      "weighted avg       0.91      0.91      0.91      1956\n",
      "\n"
     ]
    }
   ],
   "source": [
    "from sklearn.metrics import classification_report, confusion_matrix\n",
    "import numpy as np\n",
    "y_pred = modelv2.predict(X_test_scaled)\n",
    "y_pred_classes = [np.argmax(element) for element in y_pred]\n",
    "print ('Classification Report : \\n', classification_report(y_test, y_pred_classes))"
   ]
  },
  {
   "cell_type": "code",
   "execution_count": 29,
   "id": "a8909e8b",
   "metadata": {},
   "outputs": [
    {
     "data": {
      "text/plain": [
       "<tf.Tensor: shape=(3, 3), dtype=int32, numpy=\n",
       "array([[738,   5,  12],\n",
       "       [ 11, 419,  42],\n",
       "       [ 21,  79, 629]])>"
      ]
     },
     "execution_count": 29,
     "metadata": {},
     "output_type": "execute_result"
    }
   ],
   "source": [
    "cm = tf.math.confusion_matrix(labels= y_test, predictions=y_pred_classes)\n",
    "cm"
   ]
  },
  {
   "cell_type": "code",
   "execution_count": 30,
   "id": "70b91f0e",
   "metadata": {},
   "outputs": [
    {
     "data": {
      "text/plain": [
       "Text(69.0, 0.5, 'True')"
      ]
     },
     "execution_count": 30,
     "metadata": {},
     "output_type": "execute_result"
    },
    {
     "data": {
      "image/png": "[encoded data removed]",
      "text/plain": [
       "<Figure size 720x504 with 2 Axes>"
      ]
     },
     "metadata": {
      "needs_background": "light"
     },
     "output_type": "display_data"
    }
   ],
   "source": [
    "import seaborn as sns\n",
    "plt.figure(figsize=(10,7))\n",
    "sns.heatmap(cm, annot=True, fmt='d')\n",
    "plt.xlabel('Predicted')\n",
    "plt.ylabel('True')"
   ]
  },
  {
   "cell_type": "code",
   "execution_count": 31,
   "id": "5197acbd",
   "metadata": {},
   "outputs": [
    {
     "data": {
      "image/png": "[encoded data removed]",
      "text/plain": [
       "<Figure size 576x360 with 1 Axes>"
      ]
     },
     "metadata": {
      "needs_background": "light"
     },
     "output_type": "display_data"
    }
   ],
   "source": [
    "import pandas as pd\n",
    "import matplotlib.pyplot as plt\n",
    "pd.DataFrame(history.history).plot(figsize=(8, 5))\n",
    "plt.grid(True)\n",
    "plt.gca().set_ylim(0, 1) # set the vertical range to [0-1]\n",
    "plt.show()"
   ]
  },
  {
   "cell_type": "code",
   "execution_count": null,
   "id": "0fafd101",
   "metadata": {},
   "outputs": [],
   "source": []
  }
 ],
 "metadata": {
  "kernelspec": {
   "display_name": "Python 3 (ipykernel)",
   "language": "python",
   "name": "python3"
  },
  "language_info": {
   "codemirror_mode": {
    "name": "ipython",
    "version": 3
   },
   "file_extension": ".py",
   "mimetype": "text/x-python",
   "name": "python",
   "nbconvert_exporter": "python",
   "pygments_lexer": "ipython3",
   "version": "3.9.12"
  }
 },
 "nbformat": 4,
 "nbformat_minor": 5
}
