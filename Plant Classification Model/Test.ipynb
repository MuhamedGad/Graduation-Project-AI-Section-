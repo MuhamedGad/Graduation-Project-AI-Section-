{
 "cells": [
  {
   "cell_type": "code",
   "execution_count": 3,
   "id": "602c1f2d",
   "metadata": {},
   "outputs": [],
   "source": [
    "import tensorflow as tf\n",
    "from tensorflow.keras import models, layers\n",
    "from tensorflow import keras\n",
    "modelAll = keras.models.load_model('3PlantFinal.h5') # plants\n"
   ]
  },
  {
   "cell_type": "code",
   "execution_count": 25,
   "id": "5db79b89",
   "metadata": {},
   "outputs": [],
   "source": [
    "IMAGE_SIZE = 256\n",
    "BATCH_SIZE = 1"
   ]
  },
  {
   "cell_type": "code",
   "execution_count": 26,
   "id": "2e21e209",
   "metadata": {},
   "outputs": [],
   "source": [
    "class_namesAll = ['Maize', 'Strawberry', 'Wheat']"
   ]
  },
  {
   "cell_type": "code",
   "execution_count": 50,
   "id": "4e0291d5",
   "metadata": {},
   "outputs": [],
   "source": [
    "import cv2 \n",
    "import matplotlib.pyplot as plt"
   ]
  },
  {
   "cell_type": "code",
   "execution_count": 58,
   "id": "56c1b81c",
   "metadata": {},
   "outputs": [],
   "source": [
    "import cv2\n",
    "import os\n",
    "\n",
    "# Path to the folder containing the images\n",
    "path = r'C:\\Users\\Mohamed Gad\\OneDrive\\Desktop\\3Plants\\test\\t'\n",
    "\n",
    "# Loop through all the files in the folder\n",
    "for filename in os.listdir(path):\n",
    "    # Read the image\n",
    "    img = cv2.imread(os.path.join(path, filename))\n",
    "\n",
    "    # Convert the image to grayscale\n",
    "    gray = cv2.cvtColor(img, cv2.COLOR_BGR2GRAY)\n",
    "\n",
    "    # Save the grayscale image\n",
    "    cv2.imwrite(os.path.join(path, filename), gray)"
   ]
  },
  {
   "cell_type": "code",
   "execution_count": 59,
   "id": "bed26a16",
   "metadata": {},
   "outputs": [
    {
     "data": {
      "text/plain": [
       "WindowsPath('C:/Users/Mohamed Gad/OneDrive/Desktop/3Plants/test')"
      ]
     },
     "execution_count": 59,
     "metadata": {},
     "output_type": "execute_result"
    }
   ],
   "source": [
    "import pathlib\n",
    "data_dir = r'C:\\Users\\Mohamed Gad\\OneDrive\\Desktop\\3Plants\\test'\n",
    "data_dir = pathlib.Path (data_dir)\n",
    "data_dir"
   ]
  },
  {
   "cell_type": "code",
   "execution_count": 60,
   "id": "003515e4",
   "metadata": {},
   "outputs": [],
   "source": [
    "test = []\n",
    "for image in list (data_dir.glob('t/*')):\n",
    "    \n",
    "    \n",
    "    img = cv2.imread(str(image))\n",
    "    resized_img = cv2.resize(img, (256,256))\n",
    "    test.append(resized_img)\n",
    "        \n",
    "        "
   ]
  },
  {
   "cell_type": "code",
   "execution_count": 61,
   "id": "5a33669f",
   "metadata": {},
   "outputs": [],
   "source": [
    "import numpy as np\n",
    "test = np.array(test)\n",
    "test_scaled = test / 255"
   ]
  },
  {
   "cell_type": "code",
   "execution_count": 62,
   "id": "8cbeb564",
   "metadata": {},
   "outputs": [
    {
     "name": "stdout",
     "output_type": "stream",
     "text": [
      "1/1 [==============================] - 0s 39ms/step\n"
     ]
    }
   ],
   "source": [
    "y_pred = modelAll.predict (test_scaled)"
   ]
  },
  {
   "cell_type": "code",
   "execution_count": 63,
   "id": "53a1bf1d",
   "metadata": {},
   "outputs": [
    {
     "data": {
      "text/plain": [
       "'Wheat'"
      ]
     },
     "execution_count": 63,
     "metadata": {},
     "output_type": "execute_result"
    }
   ],
   "source": [
    "class_namesAll[np.argmax(y_pred)]"
   ]
  },
  {
   "cell_type": "code",
   "execution_count": 64,
   "id": "48a8a43b",
   "metadata": {},
   "outputs": [
    {
     "data": {
      "text/plain": [
       "array([[0.04715752, 0.2236995 , 0.729143  ]], dtype=float32)"
      ]
     },
     "execution_count": 64,
     "metadata": {},
     "output_type": "execute_result"
    }
   ],
   "source": [
    "y_pred"
   ]
  },
  {
   "cell_type": "code",
   "execution_count": null,
   "id": "661db92b",
   "metadata": {},
   "outputs": [],
   "source": []
  },
  {
   "cell_type": "code",
   "execution_count": null,
   "id": "f0fe1463",
   "metadata": {},
   "outputs": [],
   "source": []
  }
 ],
 "metadata": {
  "kernelspec": {
   "display_name": "Python 3 (ipykernel)",
   "language": "python",
   "name": "python3"
  },
  "language_info": {
   "codemirror_mode": {
    "name": "ipython",
    "version": 3
   },
   "file_extension": ".py",
   "mimetype": "text/x-python",
   "name": "python",
   "nbconvert_exporter": "python",
   "pygments_lexer": "ipython3",
   "version": "3.9.12"
  }
 },
 "nbformat": 4,
 "nbformat_minor": 5
}
